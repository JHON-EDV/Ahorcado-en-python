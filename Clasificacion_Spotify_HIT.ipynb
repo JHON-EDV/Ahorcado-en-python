{
  "nbformat": 4,
  "nbformat_minor": 0,
  "metadata": {
    "colab": {
      "name": "Clasificacion_Spotify_HIT.ipynb",
      "provenance": [],
      "collapsed_sections": [],
      "include_colab_link": true
    },
    "kernelspec": {
      "name": "python3",
      "display_name": "Python 3"
    }
  },
  "cells": [
    {
      "cell_type": "markdown",
      "metadata": {
        "id": "view-in-github",
        "colab_type": "text"
      },
      "source": [
        "<a href=\"https://colab.research.google.com/github/JHON-EDV/Ahorcado-en-python/blob/master/Clasificacion_Spotify_HIT.ipynb\" target=\"_parent\"><img src=\"https://colab.research.google.com/assets/colab-badge.svg\" alt=\"Open In Colab\"/></a>"
      ]
    },
    {
      "cell_type": "code",
      "metadata": {
        "id": "KiecoEJ67gU0",
        "outputId": "3db885c2-304e-4137-d588-f4d1fb9354cc",
        "colab": {
          "base_uri": "https://localhost:8080/"
        }
      },
      "source": [
        "import numpy as np\n",
        "import pandas as pd\n",
        "import matplotlib.pyplot as plt\n",
        "import sklearn\n",
        "\n",
        "\n",
        "%matplotlib inline\n",
        "\n",
        "\n",
        "spotify = pd.read_csv('https://raw.githubusercontent.com/JHON-EDV/Clasificacion_Spotify/master/data.csv',encoding='utf-8')\n",
        "\n",
        "type(spotify)"
      ],
      "execution_count": 3,
      "outputs": [
        {
          "output_type": "execute_result",
          "data": {
            "text/plain": [
              "pandas.core.frame.DataFrame"
            ]
          },
          "metadata": {
            "tags": []
          },
          "execution_count": 3
        }
      ]
    },
    {
      "cell_type": "code",
      "metadata": {
        "id": "iaj3f7HhAKk2",
        "outputId": "204b3e0f-9c57-4dc6-a62f-1876fcea5947",
        "colab": {
          "base_uri": "https://localhost:8080/",
          "height": 417
        }
      },
      "source": [
        "spotify.head()"
      ],
      "execution_count": 4,
      "outputs": [
        {
          "output_type": "execute_result",
          "data": {
            "text/html": [
              "<div>\n",
              "<style scoped>\n",
              "    .dataframe tbody tr th:only-of-type {\n",
              "        vertical-align: middle;\n",
              "    }\n",
              "\n",
              "    .dataframe tbody tr th {\n",
              "        vertical-align: top;\n",
              "    }\n",
              "\n",
              "    .dataframe thead th {\n",
              "        text-align: right;\n",
              "    }\n",
              "</style>\n",
              "<table border=\"1\" class=\"dataframe\">\n",
              "  <thead>\n",
              "    <tr style=\"text-align: right;\">\n",
              "      <th></th>\n",
              "      <th>acousticness</th>\n",
              "      <th>artists</th>\n",
              "      <th>danceability</th>\n",
              "      <th>duration_ms</th>\n",
              "      <th>energy</th>\n",
              "      <th>explicit</th>\n",
              "      <th>id</th>\n",
              "      <th>instrumentalness</th>\n",
              "      <th>key</th>\n",
              "      <th>liveness</th>\n",
              "      <th>loudness</th>\n",
              "      <th>mode</th>\n",
              "      <th>name</th>\n",
              "      <th>popularity</th>\n",
              "      <th>release_date</th>\n",
              "      <th>speechiness</th>\n",
              "      <th>tempo</th>\n",
              "      <th>valence</th>\n",
              "      <th>year</th>\n",
              "    </tr>\n",
              "  </thead>\n",
              "  <tbody>\n",
              "    <tr>\n",
              "      <th>0</th>\n",
              "      <td>0.995</td>\n",
              "      <td>['Carl Woitschach']</td>\n",
              "      <td>0.708</td>\n",
              "      <td>158648</td>\n",
              "      <td>0.1950</td>\n",
              "      <td>0</td>\n",
              "      <td>6KbQ3uYMLKb5jDxLF7wYDD</td>\n",
              "      <td>0.563</td>\n",
              "      <td>10</td>\n",
              "      <td>0.1510</td>\n",
              "      <td>-12.428</td>\n",
              "      <td>1</td>\n",
              "      <td>Singende Bataillone 1. Teil</td>\n",
              "      <td>0</td>\n",
              "      <td>1928</td>\n",
              "      <td>0.0506</td>\n",
              "      <td>118.469</td>\n",
              "      <td>0.7790</td>\n",
              "      <td>1928</td>\n",
              "    </tr>\n",
              "    <tr>\n",
              "      <th>1</th>\n",
              "      <td>0.994</td>\n",
              "      <td>['Robert Schumann', 'Vladimir Horowitz']</td>\n",
              "      <td>0.379</td>\n",
              "      <td>282133</td>\n",
              "      <td>0.0135</td>\n",
              "      <td>0</td>\n",
              "      <td>6KuQTIu1KoTTkLXKrwlLPV</td>\n",
              "      <td>0.901</td>\n",
              "      <td>8</td>\n",
              "      <td>0.0763</td>\n",
              "      <td>-28.454</td>\n",
              "      <td>1</td>\n",
              "      <td>Fantasiestücke, Op. 111: Più tosto lento</td>\n",
              "      <td>0</td>\n",
              "      <td>1928</td>\n",
              "      <td>0.0462</td>\n",
              "      <td>83.972</td>\n",
              "      <td>0.0767</td>\n",
              "      <td>1928</td>\n",
              "    </tr>\n",
              "    <tr>\n",
              "      <th>2</th>\n",
              "      <td>0.604</td>\n",
              "      <td>['Seweryn Goszczyński']</td>\n",
              "      <td>0.749</td>\n",
              "      <td>104300</td>\n",
              "      <td>0.2200</td>\n",
              "      <td>0</td>\n",
              "      <td>6L63VW0PibdM1HDSBoqnoM</td>\n",
              "      <td>0.000</td>\n",
              "      <td>5</td>\n",
              "      <td>0.1190</td>\n",
              "      <td>-19.924</td>\n",
              "      <td>0</td>\n",
              "      <td>Chapter 1.18 - Zamek kaniowski</td>\n",
              "      <td>0</td>\n",
              "      <td>1928</td>\n",
              "      <td>0.9290</td>\n",
              "      <td>107.177</td>\n",
              "      <td>0.8800</td>\n",
              "      <td>1928</td>\n",
              "    </tr>\n",
              "    <tr>\n",
              "      <th>3</th>\n",
              "      <td>0.995</td>\n",
              "      <td>['Francisco Canaro']</td>\n",
              "      <td>0.781</td>\n",
              "      <td>180760</td>\n",
              "      <td>0.1300</td>\n",
              "      <td>0</td>\n",
              "      <td>6M94FkXd15sOAOQYRnWPN8</td>\n",
              "      <td>0.887</td>\n",
              "      <td>1</td>\n",
              "      <td>0.1110</td>\n",
              "      <td>-14.734</td>\n",
              "      <td>0</td>\n",
              "      <td>Bebamos Juntos - Instrumental (Remasterizado)</td>\n",
              "      <td>0</td>\n",
              "      <td>1928-09-25</td>\n",
              "      <td>0.0926</td>\n",
              "      <td>108.003</td>\n",
              "      <td>0.7200</td>\n",
              "      <td>1928</td>\n",
              "    </tr>\n",
              "    <tr>\n",
              "      <th>4</th>\n",
              "      <td>0.990</td>\n",
              "      <td>['Frédéric Chopin', 'Vladimir Horowitz']</td>\n",
              "      <td>0.210</td>\n",
              "      <td>687733</td>\n",
              "      <td>0.2040</td>\n",
              "      <td>0</td>\n",
              "      <td>6N6tiFZ9vLTSOIxkj8qKrd</td>\n",
              "      <td>0.908</td>\n",
              "      <td>11</td>\n",
              "      <td>0.0980</td>\n",
              "      <td>-16.829</td>\n",
              "      <td>1</td>\n",
              "      <td>Polonaise-Fantaisie in A-Flat Major, Op. 61</td>\n",
              "      <td>1</td>\n",
              "      <td>1928</td>\n",
              "      <td>0.0424</td>\n",
              "      <td>62.149</td>\n",
              "      <td>0.0693</td>\n",
              "      <td>1928</td>\n",
              "    </tr>\n",
              "  </tbody>\n",
              "</table>\n",
              "</div>"
            ],
            "text/plain": [
              "   acousticness                                   artists  ...  valence  year\n",
              "0         0.995                       ['Carl Woitschach']  ...   0.7790  1928\n",
              "1         0.994  ['Robert Schumann', 'Vladimir Horowitz']  ...   0.0767  1928\n",
              "2         0.604                   ['Seweryn Goszczyński']  ...   0.8800  1928\n",
              "3         0.995                      ['Francisco Canaro']  ...   0.7200  1928\n",
              "4         0.990  ['Frédéric Chopin', 'Vladimir Horowitz']  ...   0.0693  1928\n",
              "\n",
              "[5 rows x 19 columns]"
            ]
          },
          "metadata": {
            "tags": []
          },
          "execution_count": 4
        }
      ]
    },
    {
      "cell_type": "code",
      "metadata": {
        "id": "pZLj5sJ-AX34",
        "outputId": "a9460a41-be09-40f2-b013-ef0943df30ae",
        "colab": {
          "base_uri": "https://localhost:8080/"
        }
      },
      "source": [
        "#Visualizamos la dimension de la base de datos\n",
        "spotify.shape"
      ],
      "execution_count": 5,
      "outputs": [
        {
          "output_type": "execute_result",
          "data": {
            "text/plain": [
              "(169909, 19)"
            ]
          },
          "metadata": {
            "tags": []
          },
          "execution_count": 5
        }
      ]
    },
    {
      "cell_type": "code",
      "metadata": {
        "id": "lta_QvqFAmT3",
        "outputId": "25a4e7c1-ac69-493c-f36f-1c2e6195a005",
        "colab": {
          "base_uri": "https://localhost:8080/"
        }
      },
      "source": [
        "#visualizamos las columnas\n",
        "spotify.columns"
      ],
      "execution_count": 6,
      "outputs": [
        {
          "output_type": "execute_result",
          "data": {
            "text/plain": [
              "Index(['acousticness', 'artists', 'danceability', 'duration_ms', 'energy',\n",
              "       'explicit', 'id', 'instrumentalness', 'key', 'liveness', 'loudness',\n",
              "       'mode', 'name', 'popularity', 'release_date', 'speechiness', 'tempo',\n",
              "       'valence', 'year'],\n",
              "      dtype='object')"
            ]
          },
          "metadata": {
            "tags": []
          },
          "execution_count": 6
        }
      ]
    },
    {
      "cell_type": "code",
      "metadata": {
        "id": "PUnlIozgAxJ3",
        "outputId": "addd8af6-e803-4c9f-b541-112b16ad050a",
        "colab": {
          "base_uri": "https://localhost:8080/"
        }
      },
      "source": [
        "spotify.index"
      ],
      "execution_count": 7,
      "outputs": [
        {
          "output_type": "execute_result",
          "data": {
            "text/plain": [
              "RangeIndex(start=0, stop=169909, step=1)"
            ]
          },
          "metadata": {
            "tags": []
          },
          "execution_count": 7
        }
      ]
    },
    {
      "cell_type": "code",
      "metadata": {
        "id": "_TG3LCf9A6ie",
        "outputId": "7ba43d60-a12d-4df7-8d44-e8c6799acc21",
        "colab": {
          "base_uri": "https://localhost:8080/"
        }
      },
      "source": [
        "#Tipo de dato por columna\n",
        "spotify.dtypes"
      ],
      "execution_count": 8,
      "outputs": [
        {
          "output_type": "execute_result",
          "data": {
            "text/plain": [
              "acousticness        float64\n",
              "artists              object\n",
              "danceability        float64\n",
              "duration_ms           int64\n",
              "energy              float64\n",
              "explicit              int64\n",
              "id                   object\n",
              "instrumentalness    float64\n",
              "key                   int64\n",
              "liveness            float64\n",
              "loudness            float64\n",
              "mode                  int64\n",
              "name                 object\n",
              "popularity            int64\n",
              "release_date         object\n",
              "speechiness         float64\n",
              "tempo               float64\n",
              "valence             float64\n",
              "year                  int64\n",
              "dtype: object"
            ]
          },
          "metadata": {
            "tags": []
          },
          "execution_count": 8
        }
      ]
    },
    {
      "cell_type": "code",
      "metadata": {
        "id": "rcCRSG4_BOrN",
        "outputId": "9e2f6fc3-c93a-4f8a-9a54-2b7751fdefa6",
        "colab": {
          "base_uri": "https://localhost:8080/"
        }
      },
      "source": [
        "#Separacion por tipo de dato.\n",
        "num = (spotify.dtypes == float) | (spotify.dtypes == int)\n",
        "num.index"
      ],
      "execution_count": 9,
      "outputs": [
        {
          "output_type": "execute_result",
          "data": {
            "text/plain": [
              "Index(['acousticness', 'artists', 'danceability', 'duration_ms', 'energy',\n",
              "       'explicit', 'id', 'instrumentalness', 'key', 'liveness', 'loudness',\n",
              "       'mode', 'name', 'popularity', 'release_date', 'speechiness', 'tempo',\n",
              "       'valence', 'year'],\n",
              "      dtype='object')"
            ]
          },
          "metadata": {
            "tags": []
          },
          "execution_count": 9
        }
      ]
    },
    {
      "cell_type": "code",
      "metadata": {
        "id": "-sMybEZBBnNc",
        "outputId": "ec205819-8209-4d4a-8283-5a59f13f1e81",
        "colab": {
          "base_uri": "https://localhost:8080/"
        }
      },
      "source": [
        "num_colms = [c for c in num.index if num[c]]\n",
        "num_colms"
      ],
      "execution_count": 10,
      "outputs": [
        {
          "output_type": "execute_result",
          "data": {
            "text/plain": [
              "['acousticness',\n",
              " 'danceability',\n",
              " 'duration_ms',\n",
              " 'energy',\n",
              " 'explicit',\n",
              " 'instrumentalness',\n",
              " 'key',\n",
              " 'liveness',\n",
              " 'loudness',\n",
              " 'mode',\n",
              " 'popularity',\n",
              " 'speechiness',\n",
              " 'tempo',\n",
              " 'valence',\n",
              " 'year']"
            ]
          },
          "metadata": {
            "tags": []
          },
          "execution_count": 10
        }
      ]
    },
    {
      "cell_type": "code",
      "metadata": {
        "id": "wPqEzyDfB-IT",
        "outputId": "626e57ca-db95-432c-962e-244a2888837a",
        "colab": {
          "base_uri": "https://localhost:8080/"
        }
      },
      "source": [
        "obj = spotify.dtypes == object\n",
        "obj_colms = [c for c in obj.index if obj[c]]\n",
        "obj_colms"
      ],
      "execution_count": 11,
      "outputs": [
        {
          "output_type": "execute_result",
          "data": {
            "text/plain": [
              "['artists', 'id', 'name', 'release_date']"
            ]
          },
          "metadata": {
            "tags": []
          },
          "execution_count": 11
        }
      ]
    },
    {
      "cell_type": "code",
      "metadata": {
        "id": "FbQCZJn5CLAy"
      },
      "source": [
        "spotify_num = spotify[num_colms]"
      ],
      "execution_count": 12,
      "outputs": []
    },
    {
      "cell_type": "code",
      "metadata": {
        "id": "0zoxYqGCCOwK",
        "outputId": "df56d28d-19e2-4b90-8d1f-4e3204581f29",
        "colab": {
          "base_uri": "https://localhost:8080/",
          "height": 406
        }
      },
      "source": [
        "spotify_num"
      ],
      "execution_count": 13,
      "outputs": [
        {
          "output_type": "execute_result",
          "data": {
            "text/html": [
              "<div>\n",
              "<style scoped>\n",
              "    .dataframe tbody tr th:only-of-type {\n",
              "        vertical-align: middle;\n",
              "    }\n",
              "\n",
              "    .dataframe tbody tr th {\n",
              "        vertical-align: top;\n",
              "    }\n",
              "\n",
              "    .dataframe thead th {\n",
              "        text-align: right;\n",
              "    }\n",
              "</style>\n",
              "<table border=\"1\" class=\"dataframe\">\n",
              "  <thead>\n",
              "    <tr style=\"text-align: right;\">\n",
              "      <th></th>\n",
              "      <th>acousticness</th>\n",
              "      <th>danceability</th>\n",
              "      <th>duration_ms</th>\n",
              "      <th>energy</th>\n",
              "      <th>explicit</th>\n",
              "      <th>instrumentalness</th>\n",
              "      <th>key</th>\n",
              "      <th>liveness</th>\n",
              "      <th>loudness</th>\n",
              "      <th>mode</th>\n",
              "      <th>popularity</th>\n",
              "      <th>speechiness</th>\n",
              "      <th>tempo</th>\n",
              "      <th>valence</th>\n",
              "      <th>year</th>\n",
              "    </tr>\n",
              "  </thead>\n",
              "  <tbody>\n",
              "    <tr>\n",
              "      <th>0</th>\n",
              "      <td>0.9950</td>\n",
              "      <td>0.708</td>\n",
              "      <td>158648</td>\n",
              "      <td>0.1950</td>\n",
              "      <td>0</td>\n",
              "      <td>0.563000</td>\n",
              "      <td>10</td>\n",
              "      <td>0.1510</td>\n",
              "      <td>-12.428</td>\n",
              "      <td>1</td>\n",
              "      <td>0</td>\n",
              "      <td>0.0506</td>\n",
              "      <td>118.469</td>\n",
              "      <td>0.7790</td>\n",
              "      <td>1928</td>\n",
              "    </tr>\n",
              "    <tr>\n",
              "      <th>1</th>\n",
              "      <td>0.9940</td>\n",
              "      <td>0.379</td>\n",
              "      <td>282133</td>\n",
              "      <td>0.0135</td>\n",
              "      <td>0</td>\n",
              "      <td>0.901000</td>\n",
              "      <td>8</td>\n",
              "      <td>0.0763</td>\n",
              "      <td>-28.454</td>\n",
              "      <td>1</td>\n",
              "      <td>0</td>\n",
              "      <td>0.0462</td>\n",
              "      <td>83.972</td>\n",
              "      <td>0.0767</td>\n",
              "      <td>1928</td>\n",
              "    </tr>\n",
              "    <tr>\n",
              "      <th>2</th>\n",
              "      <td>0.6040</td>\n",
              "      <td>0.749</td>\n",
              "      <td>104300</td>\n",
              "      <td>0.2200</td>\n",
              "      <td>0</td>\n",
              "      <td>0.000000</td>\n",
              "      <td>5</td>\n",
              "      <td>0.1190</td>\n",
              "      <td>-19.924</td>\n",
              "      <td>0</td>\n",
              "      <td>0</td>\n",
              "      <td>0.9290</td>\n",
              "      <td>107.177</td>\n",
              "      <td>0.8800</td>\n",
              "      <td>1928</td>\n",
              "    </tr>\n",
              "    <tr>\n",
              "      <th>3</th>\n",
              "      <td>0.9950</td>\n",
              "      <td>0.781</td>\n",
              "      <td>180760</td>\n",
              "      <td>0.1300</td>\n",
              "      <td>0</td>\n",
              "      <td>0.887000</td>\n",
              "      <td>1</td>\n",
              "      <td>0.1110</td>\n",
              "      <td>-14.734</td>\n",
              "      <td>0</td>\n",
              "      <td>0</td>\n",
              "      <td>0.0926</td>\n",
              "      <td>108.003</td>\n",
              "      <td>0.7200</td>\n",
              "      <td>1928</td>\n",
              "    </tr>\n",
              "    <tr>\n",
              "      <th>4</th>\n",
              "      <td>0.9900</td>\n",
              "      <td>0.210</td>\n",
              "      <td>687733</td>\n",
              "      <td>0.2040</td>\n",
              "      <td>0</td>\n",
              "      <td>0.908000</td>\n",
              "      <td>11</td>\n",
              "      <td>0.0980</td>\n",
              "      <td>-16.829</td>\n",
              "      <td>1</td>\n",
              "      <td>1</td>\n",
              "      <td>0.0424</td>\n",
              "      <td>62.149</td>\n",
              "      <td>0.0693</td>\n",
              "      <td>1928</td>\n",
              "    </tr>\n",
              "    <tr>\n",
              "      <th>...</th>\n",
              "      <td>...</td>\n",
              "      <td>...</td>\n",
              "      <td>...</td>\n",
              "      <td>...</td>\n",
              "      <td>...</td>\n",
              "      <td>...</td>\n",
              "      <td>...</td>\n",
              "      <td>...</td>\n",
              "      <td>...</td>\n",
              "      <td>...</td>\n",
              "      <td>...</td>\n",
              "      <td>...</td>\n",
              "      <td>...</td>\n",
              "      <td>...</td>\n",
              "      <td>...</td>\n",
              "    </tr>\n",
              "    <tr>\n",
              "      <th>169904</th>\n",
              "      <td>0.1730</td>\n",
              "      <td>0.875</td>\n",
              "      <td>163800</td>\n",
              "      <td>0.4430</td>\n",
              "      <td>1</td>\n",
              "      <td>0.000032</td>\n",
              "      <td>1</td>\n",
              "      <td>0.0891</td>\n",
              "      <td>-7.461</td>\n",
              "      <td>1</td>\n",
              "      <td>75</td>\n",
              "      <td>0.1430</td>\n",
              "      <td>100.012</td>\n",
              "      <td>0.3060</td>\n",
              "      <td>2020</td>\n",
              "    </tr>\n",
              "    <tr>\n",
              "      <th>169905</th>\n",
              "      <td>0.0167</td>\n",
              "      <td>0.719</td>\n",
              "      <td>167468</td>\n",
              "      <td>0.3850</td>\n",
              "      <td>0</td>\n",
              "      <td>0.031300</td>\n",
              "      <td>8</td>\n",
              "      <td>0.1110</td>\n",
              "      <td>-10.907</td>\n",
              "      <td>1</td>\n",
              "      <td>64</td>\n",
              "      <td>0.0403</td>\n",
              "      <td>128.000</td>\n",
              "      <td>0.2700</td>\n",
              "      <td>2020</td>\n",
              "    </tr>\n",
              "    <tr>\n",
              "      <th>169906</th>\n",
              "      <td>0.5380</td>\n",
              "      <td>0.514</td>\n",
              "      <td>180700</td>\n",
              "      <td>0.5390</td>\n",
              "      <td>0</td>\n",
              "      <td>0.002330</td>\n",
              "      <td>7</td>\n",
              "      <td>0.1080</td>\n",
              "      <td>-9.332</td>\n",
              "      <td>1</td>\n",
              "      <td>70</td>\n",
              "      <td>0.1050</td>\n",
              "      <td>123.700</td>\n",
              "      <td>0.1530</td>\n",
              "      <td>2020</td>\n",
              "    </tr>\n",
              "    <tr>\n",
              "      <th>169907</th>\n",
              "      <td>0.0714</td>\n",
              "      <td>0.646</td>\n",
              "      <td>167308</td>\n",
              "      <td>0.7610</td>\n",
              "      <td>0</td>\n",
              "      <td>0.000000</td>\n",
              "      <td>1</td>\n",
              "      <td>0.2220</td>\n",
              "      <td>-2.557</td>\n",
              "      <td>1</td>\n",
              "      <td>70</td>\n",
              "      <td>0.0385</td>\n",
              "      <td>129.916</td>\n",
              "      <td>0.4720</td>\n",
              "      <td>2020</td>\n",
              "    </tr>\n",
              "    <tr>\n",
              "      <th>169908</th>\n",
              "      <td>0.1090</td>\n",
              "      <td>0.512</td>\n",
              "      <td>214787</td>\n",
              "      <td>0.4280</td>\n",
              "      <td>0</td>\n",
              "      <td>0.000000</td>\n",
              "      <td>0</td>\n",
              "      <td>0.1050</td>\n",
              "      <td>-7.387</td>\n",
              "      <td>1</td>\n",
              "      <td>65</td>\n",
              "      <td>0.0271</td>\n",
              "      <td>80.588</td>\n",
              "      <td>0.3660</td>\n",
              "      <td>2020</td>\n",
              "    </tr>\n",
              "  </tbody>\n",
              "</table>\n",
              "<p>169909 rows × 15 columns</p>\n",
              "</div>"
            ],
            "text/plain": [
              "        acousticness  danceability  duration_ms  ...    tempo  valence  year\n",
              "0             0.9950         0.708       158648  ...  118.469   0.7790  1928\n",
              "1             0.9940         0.379       282133  ...   83.972   0.0767  1928\n",
              "2             0.6040         0.749       104300  ...  107.177   0.8800  1928\n",
              "3             0.9950         0.781       180760  ...  108.003   0.7200  1928\n",
              "4             0.9900         0.210       687733  ...   62.149   0.0693  1928\n",
              "...              ...           ...          ...  ...      ...      ...   ...\n",
              "169904        0.1730         0.875       163800  ...  100.012   0.3060  2020\n",
              "169905        0.0167         0.719       167468  ...  128.000   0.2700  2020\n",
              "169906        0.5380         0.514       180700  ...  123.700   0.1530  2020\n",
              "169907        0.0714         0.646       167308  ...  129.916   0.4720  2020\n",
              "169908        0.1090         0.512       214787  ...   80.588   0.3660  2020\n",
              "\n",
              "[169909 rows x 15 columns]"
            ]
          },
          "metadata": {
            "tags": []
          },
          "execution_count": 13
        }
      ]
    },
    {
      "cell_type": "code",
      "metadata": {
        "id": "JPDDb8FpCbZC",
        "outputId": "8a0c6e7b-c4c8-4607-a0f3-e6038d8afb2c",
        "colab": {
          "base_uri": "https://localhost:8080/"
        }
      },
      "source": [
        "spotify_num.shape"
      ],
      "execution_count": 14,
      "outputs": [
        {
          "output_type": "execute_result",
          "data": {
            "text/plain": [
              "(169909, 15)"
            ]
          },
          "metadata": {
            "tags": []
          },
          "execution_count": 14
        }
      ]
    },
    {
      "cell_type": "code",
      "metadata": {
        "id": "_HKiUz_ECi3R",
        "outputId": "35de6ace-f3b2-46c3-8247-2c0e8ceeb81f",
        "colab": {
          "base_uri": "https://localhost:8080/",
          "height": 312
        }
      },
      "source": [
        "spotify_num['year'].hist()\n",
        "plt.xlabel('Year')\n",
        "plt.ylabel('Numero de repeticiones')\n",
        "plt.title('Histogram of year')\n"
      ],
      "execution_count": 15,
      "outputs": [
        {
          "output_type": "execute_result",
          "data": {
            "text/plain": [
              "Text(0.5, 1.0, 'Histogram of year')"
            ]
          },
          "metadata": {
            "tags": []
          },
          "execution_count": 15
        },
        {
          "output_type": "display_data",
          "data": {
            "image/png": "[encoded data removed]",
            "text/plain": [
              "<Figure size 432x288 with 1 Axes>"
            ]
          },
          "metadata": {
            "tags": [],
            "needs_background": "light"
          }
        }
      ]
    },
    {
      "cell_type": "code",
      "metadata": {
        "id": "1gCFdXMCDJdL",
        "outputId": "7ac17af6-7d74-475a-93be-b80227b09294",
        "colab": {
          "base_uri": "https://localhost:8080/",
          "height": 312
        }
      },
      "source": [
        "spotify_num['popularity'].hist()\n",
        "plt.xlabel('Popularity')\n",
        "plt.ylabel('Numero de repeticiones')\n",
        "plt.title('Histogram of Popularity')"
      ],
      "execution_count": 16,
      "outputs": [
        {
          "output_type": "execute_result",
          "data": {
            "text/plain": [
              "Text(0.5, 1.0, 'Histogram of Popularity')"
            ]
          },
          "metadata": {
            "tags": []
          },
          "execution_count": 16
        },
        {
          "output_type": "display_data",
          "data": {
            "image/png": "[encoded data removed]",
            "text/plain": [
              "<Figure size 432x288 with 1 Axes>"
            ]
          },
          "metadata": {
            "tags": [],
            "needs_background": "light"
          }
        }
      ]
    },
    {
      "cell_type": "markdown",
      "metadata": {
        "id": "mzpNBZLcGE2M"
      },
      "source": [
        "Aqui hay un problema, si queremos eliminar los primeros años. Los datos de estos son minimos, aunque se tiene una gran cantidad de casos en 0 "
      ]
    },
    {
      "cell_type": "code",
      "metadata": {
        "id": "ICn1yEk-Dswe",
        "outputId": "93c4a759-161f-4b40-fd2e-80fd1eeea777",
        "colab": {
          "base_uri": "https://localhost:8080/",
          "height": 497
        }
      },
      "source": [
        "import seaborn as sns\n",
        "%matplotlib inline\n",
        "\n",
        "spotify_num.corr()\n",
        "#correlación entre las columnas siendo 1 el maximo"
      ],
      "execution_count": 17,
      "outputs": [
        {
          "output_type": "execute_result",
          "data": {
            "text/html": [
              "<div>\n",
              "<style scoped>\n",
              "    .dataframe tbody tr th:only-of-type {\n",
              "        vertical-align: middle;\n",
              "    }\n",
              "\n",
              "    .dataframe tbody tr th {\n",
              "        vertical-align: top;\n",
              "    }\n",
              "\n",
              "    .dataframe thead th {\n",
              "        text-align: right;\n",
              "    }\n",
              "</style>\n",
              "<table border=\"1\" class=\"dataframe\">\n",
              "  <thead>\n",
              "    <tr style=\"text-align: right;\">\n",
              "      <th></th>\n",
              "      <th>acousticness</th>\n",
              "      <th>danceability</th>\n",
              "      <th>duration_ms</th>\n",
              "      <th>energy</th>\n",
              "      <th>explicit</th>\n",
              "      <th>instrumentalness</th>\n",
              "      <th>key</th>\n",
              "      <th>liveness</th>\n",
              "      <th>loudness</th>\n",
              "      <th>mode</th>\n",
              "      <th>popularity</th>\n",
              "      <th>speechiness</th>\n",
              "      <th>tempo</th>\n",
              "      <th>valence</th>\n",
              "      <th>year</th>\n",
              "    </tr>\n",
              "  </thead>\n",
              "  <tbody>\n",
              "    <tr>\n",
              "      <th>acousticness</th>\n",
              "      <td>1.000000</td>\n",
              "      <td>-0.265950</td>\n",
              "      <td>-0.079311</td>\n",
              "      <td>-0.750283</td>\n",
              "      <td>-0.253690</td>\n",
              "      <td>0.335821</td>\n",
              "      <td>-0.021686</td>\n",
              "      <td>-0.023871</td>\n",
              "      <td>-0.567072</td>\n",
              "      <td>0.046475</td>\n",
              "      <td>-0.593345</td>\n",
              "      <td>-0.056077</td>\n",
              "      <td>-0.204982</td>\n",
              "      <td>-0.185540</td>\n",
              "      <td>-0.624550</td>\n",
              "    </tr>\n",
              "    <tr>\n",
              "      <th>danceability</th>\n",
              "      <td>-0.265950</td>\n",
              "      <td>1.000000</td>\n",
              "      <td>-0.134500</td>\n",
              "      <td>0.220569</td>\n",
              "      <td>0.241891</td>\n",
              "      <td>-0.281429</td>\n",
              "      <td>0.022599</td>\n",
              "      <td>-0.105532</td>\n",
              "      <td>0.294170</td>\n",
              "      <td>-0.045306</td>\n",
              "      <td>0.221077</td>\n",
              "      <td>0.225305</td>\n",
              "      <td>-0.004872</td>\n",
              "      <td>0.560242</td>\n",
              "      <td>0.203430</td>\n",
              "    </tr>\n",
              "    <tr>\n",
              "      <th>duration_ms</th>\n",
              "      <td>-0.079311</td>\n",
              "      <td>-0.134500</td>\n",
              "      <td>1.000000</td>\n",
              "      <td>0.036396</td>\n",
              "      <td>-0.043811</td>\n",
              "      <td>0.084814</td>\n",
              "      <td>-0.003116</td>\n",
              "      <td>0.034270</td>\n",
              "      <td>-0.014687</td>\n",
              "      <td>-0.046981</td>\n",
              "      <td>0.063292</td>\n",
              "      <td>-0.058449</td>\n",
              "      <td>-0.028816</td>\n",
              "      <td>-0.198760</td>\n",
              "      <td>0.076293</td>\n",
              "    </tr>\n",
              "    <tr>\n",
              "      <th>energy</th>\n",
              "      <td>-0.750283</td>\n",
              "      <td>0.220569</td>\n",
              "      <td>0.036396</td>\n",
              "      <td>1.000000</td>\n",
              "      <td>0.142677</td>\n",
              "      <td>-0.287692</td>\n",
              "      <td>0.029984</td>\n",
              "      <td>0.126293</td>\n",
              "      <td>0.782982</td>\n",
              "      <td>-0.038355</td>\n",
              "      <td>0.497488</td>\n",
              "      <td>-0.045226</td>\n",
              "      <td>0.249936</td>\n",
              "      <td>0.350086</td>\n",
              "      <td>0.532419</td>\n",
              "    </tr>\n",
              "    <tr>\n",
              "      <th>explicit</th>\n",
              "      <td>-0.253690</td>\n",
              "      <td>0.241891</td>\n",
              "      <td>-0.043811</td>\n",
              "      <td>0.142677</td>\n",
              "      <td>1.000000</td>\n",
              "      <td>-0.138292</td>\n",
              "      <td>0.008578</td>\n",
              "      <td>0.039272</td>\n",
              "      <td>0.152695</td>\n",
              "      <td>-0.083221</td>\n",
              "      <td>0.214044</td>\n",
              "      <td>0.413074</td>\n",
              "      <td>0.011484</td>\n",
              "      <td>-0.022327</td>\n",
              "      <td>0.245227</td>\n",
              "    </tr>\n",
              "    <tr>\n",
              "      <th>instrumentalness</th>\n",
              "      <td>0.335821</td>\n",
              "      <td>-0.281429</td>\n",
              "      <td>0.084814</td>\n",
              "      <td>-0.287692</td>\n",
              "      <td>-0.138292</td>\n",
              "      <td>1.000000</td>\n",
              "      <td>-0.014268</td>\n",
              "      <td>-0.047397</td>\n",
              "      <td>-0.417033</td>\n",
              "      <td>-0.035051</td>\n",
              "      <td>-0.299829</td>\n",
              "      <td>-0.115735</td>\n",
              "      <td>-0.107570</td>\n",
              "      <td>-0.193929</td>\n",
              "      <td>-0.291571</td>\n",
              "    </tr>\n",
              "    <tr>\n",
              "      <th>key</th>\n",
              "      <td>-0.021686</td>\n",
              "      <td>0.022599</td>\n",
              "      <td>-0.003116</td>\n",
              "      <td>0.029984</td>\n",
              "      <td>0.008578</td>\n",
              "      <td>-0.014268</td>\n",
              "      <td>1.000000</td>\n",
              "      <td>-0.000106</td>\n",
              "      <td>0.021920</td>\n",
              "      <td>-0.112766</td>\n",
              "      <td>0.010675</td>\n",
              "      <td>0.015225</td>\n",
              "      <td>0.003148</td>\n",
              "      <td>0.029064</td>\n",
              "      <td>0.012503</td>\n",
              "    </tr>\n",
              "    <tr>\n",
              "      <th>liveness</th>\n",
              "      <td>-0.023871</td>\n",
              "      <td>-0.105532</td>\n",
              "      <td>0.034270</td>\n",
              "      <td>0.126293</td>\n",
              "      <td>0.039272</td>\n",
              "      <td>-0.047397</td>\n",
              "      <td>-0.000106</td>\n",
              "      <td>1.000000</td>\n",
              "      <td>0.052985</td>\n",
              "      <td>0.005393</td>\n",
              "      <td>-0.075293</td>\n",
              "      <td>0.147667</td>\n",
              "      <td>0.008124</td>\n",
              "      <td>-0.000426</td>\n",
              "      <td>-0.055839</td>\n",
              "    </tr>\n",
              "    <tr>\n",
              "      <th>loudness</th>\n",
              "      <td>-0.567072</td>\n",
              "      <td>0.294170</td>\n",
              "      <td>-0.014687</td>\n",
              "      <td>0.782982</td>\n",
              "      <td>0.152695</td>\n",
              "      <td>-0.417033</td>\n",
              "      <td>0.021920</td>\n",
              "      <td>0.052985</td>\n",
              "      <td>1.000000</td>\n",
              "      <td>-0.013147</td>\n",
              "      <td>0.466546</td>\n",
              "      <td>-0.105796</td>\n",
              "      <td>0.211114</td>\n",
              "      <td>0.308418</td>\n",
              "      <td>0.490118</td>\n",
              "    </tr>\n",
              "    <tr>\n",
              "      <th>mode</th>\n",
              "      <td>0.046475</td>\n",
              "      <td>-0.045306</td>\n",
              "      <td>-0.046981</td>\n",
              "      <td>-0.038355</td>\n",
              "      <td>-0.083221</td>\n",
              "      <td>-0.035051</td>\n",
              "      <td>-0.112766</td>\n",
              "      <td>0.005393</td>\n",
              "      <td>-0.013147</td>\n",
              "      <td>1.000000</td>\n",
              "      <td>-0.032854</td>\n",
              "      <td>-0.057493</td>\n",
              "      <td>0.014539</td>\n",
              "      <td>0.014727</td>\n",
              "      <td>-0.033084</td>\n",
              "    </tr>\n",
              "    <tr>\n",
              "      <th>popularity</th>\n",
              "      <td>-0.593345</td>\n",
              "      <td>0.221077</td>\n",
              "      <td>0.063292</td>\n",
              "      <td>0.497488</td>\n",
              "      <td>0.214044</td>\n",
              "      <td>-0.299829</td>\n",
              "      <td>0.010675</td>\n",
              "      <td>-0.075293</td>\n",
              "      <td>0.466546</td>\n",
              "      <td>-0.032854</td>\n",
              "      <td>1.000000</td>\n",
              "      <td>-0.135707</td>\n",
              "      <td>0.135047</td>\n",
              "      <td>0.009327</td>\n",
              "      <td>0.880724</td>\n",
              "    </tr>\n",
              "    <tr>\n",
              "      <th>speechiness</th>\n",
              "      <td>-0.056077</td>\n",
              "      <td>0.225305</td>\n",
              "      <td>-0.058449</td>\n",
              "      <td>-0.045226</td>\n",
              "      <td>0.413074</td>\n",
              "      <td>-0.115735</td>\n",
              "      <td>0.015225</td>\n",
              "      <td>0.147667</td>\n",
              "      <td>-0.105796</td>\n",
              "      <td>-0.057493</td>\n",
              "      <td>-0.135707</td>\n",
              "      <td>1.000000</td>\n",
              "      <td>-0.010070</td>\n",
              "      <td>0.056383</td>\n",
              "      <td>-0.120937</td>\n",
              "    </tr>\n",
              "    <tr>\n",
              "      <th>tempo</th>\n",
              "      <td>-0.204982</td>\n",
              "      <td>-0.004872</td>\n",
              "      <td>-0.028816</td>\n",
              "      <td>0.249936</td>\n",
              "      <td>0.011484</td>\n",
              "      <td>-0.107570</td>\n",
              "      <td>0.003148</td>\n",
              "      <td>0.008124</td>\n",
              "      <td>0.211114</td>\n",
              "      <td>0.014539</td>\n",
              "      <td>0.135047</td>\n",
              "      <td>-0.010070</td>\n",
              "      <td>1.000000</td>\n",
              "      <td>0.171182</td>\n",
              "      <td>0.137892</td>\n",
              "    </tr>\n",
              "    <tr>\n",
              "      <th>valence</th>\n",
              "      <td>-0.185540</td>\n",
              "      <td>0.560242</td>\n",
              "      <td>-0.198760</td>\n",
              "      <td>0.350086</td>\n",
              "      <td>-0.022327</td>\n",
              "      <td>-0.193929</td>\n",
              "      <td>0.029064</td>\n",
              "      <td>-0.000426</td>\n",
              "      <td>0.308418</td>\n",
              "      <td>0.014727</td>\n",
              "      <td>0.009327</td>\n",
              "      <td>0.056383</td>\n",
              "      <td>0.171182</td>\n",
              "      <td>1.000000</td>\n",
              "      <td>-0.029304</td>\n",
              "    </tr>\n",
              "    <tr>\n",
              "      <th>year</th>\n",
              "      <td>-0.624550</td>\n",
              "      <td>0.203430</td>\n",
              "      <td>0.076293</td>\n",
              "      <td>0.532419</td>\n",
              "      <td>0.245227</td>\n",
              "      <td>-0.291571</td>\n",
              "      <td>0.012503</td>\n",
              "      <td>-0.055839</td>\n",
              "      <td>0.490118</td>\n",
              "      <td>-0.033084</td>\n",
              "      <td>0.880724</td>\n",
              "      <td>-0.120937</td>\n",
              "      <td>0.137892</td>\n",
              "      <td>-0.029304</td>\n",
              "      <td>1.000000</td>\n",
              "    </tr>\n",
              "  </tbody>\n",
              "</table>\n",
              "</div>"
            ],
            "text/plain": [
              "                  acousticness  danceability  ...   valence      year\n",
              "acousticness          1.000000     -0.265950  ... -0.185540 -0.624550\n",
              "danceability         -0.265950      1.000000  ...  0.560242  0.203430\n",
              "duration_ms          -0.079311     -0.134500  ... -0.198760  0.076293\n",
              "energy               -0.750283      0.220569  ...  0.350086  0.532419\n",
              "explicit             -0.253690      0.241891  ... -0.022327  0.245227\n",
              "instrumentalness      0.335821     -0.281429  ... -0.193929 -0.291571\n",
              "key                  -0.021686      0.022599  ...  0.029064  0.012503\n",
              "liveness             -0.023871     -0.105532  ... -0.000426 -0.055839\n",
              "loudness             -0.567072      0.294170  ...  0.308418  0.490118\n",
              "mode                  0.046475     -0.045306  ...  0.014727 -0.033084\n",
              "popularity           -0.593345      0.221077  ...  0.009327  0.880724\n",
              "speechiness          -0.056077      0.225305  ...  0.056383 -0.120937\n",
              "tempo                -0.204982     -0.004872  ...  0.171182  0.137892\n",
              "valence              -0.185540      0.560242  ...  1.000000 -0.029304\n",
              "year                 -0.624550      0.203430  ... -0.029304  1.000000\n",
              "\n",
              "[15 rows x 15 columns]"
            ]
          },
          "metadata": {
            "tags": []
          },
          "execution_count": 17
        }
      ]
    },
    {
      "cell_type": "code",
      "metadata": {
        "id": "-W7W1XGOHGvZ",
        "outputId": "a68671e6-32ae-4aa2-a04b-4232257c7bdc",
        "colab": {
          "base_uri": "https://localhost:8080/",
          "height": 852
        }
      },
      "source": [
        "fig, ax = plt.subplots(figsize=(13,13))         # Sample figsize in inches\n",
        "sns.heatmap(spotify_num.corr(), annot=True, fmt='.3f')\n"
      ],
      "execution_count": 18,
      "outputs": [
        {
          "output_type": "execute_result",
          "data": {
            "text/plain": [
              "<matplotlib.axes._subplots.AxesSubplot at 0x7f51b0cff6d8>"
            ]
          },
          "metadata": {
            "tags": []
          },
          "execution_count": 18
        },
        {
          "output_type": "display_data",
          "data": {
            "image/png": "[encoded data removed]",
            "text/plain": [
              "<Figure size 936x936 with 2 Axes>"
            ]
          },
          "metadata": {
            "tags": [],
            "needs_background": "light"
          }
        }
      ]
    },
    {
      "cell_type": "code",
      "metadata": {
        "id": "zUs2lyhlHxM4",
        "outputId": "45882da6-14cd-4faf-ca07-9a9b4bf90872",
        "colab": {
          "base_uri": "https://localhost:8080/"
        }
      },
      "source": [
        "(spotify_num['year'] > 1960).value_counts()"
      ],
      "execution_count": 19,
      "outputs": [
        {
          "output_type": "execute_result",
          "data": {
            "text/plain": [
              "True     119656\n",
              "False     50253\n",
              "Name: year, dtype: int64"
            ]
          },
          "metadata": {
            "tags": []
          },
          "execution_count": 19
        }
      ]
    },
    {
      "cell_type": "code",
      "metadata": {
        "id": "ssmiiiWnPKbS",
        "outputId": "f9b739fe-6bac-412c-f9d1-33b4cd1dcea6",
        "colab": {
          "base_uri": "https://localhost:8080/"
        }
      },
      "source": [
        "(spotify_num['year'] > 1940).value_counts()"
      ],
      "execution_count": 20,
      "outputs": [
        {
          "output_type": "execute_result",
          "data": {
            "text/plain": [
              "True     154574\n",
              "False     15335\n",
              "Name: year, dtype: int64"
            ]
          },
          "metadata": {
            "tags": []
          },
          "execution_count": 20
        }
      ]
    },
    {
      "cell_type": "code",
      "metadata": {
        "id": "S2G8LID0PP6G"
      },
      "source": [
        "mask = spotify_num['year'] > 1960"
      ],
      "execution_count": 21,
      "outputs": []
    },
    {
      "cell_type": "code",
      "metadata": {
        "id": "xY9Mk0iAP2pc"
      },
      "source": [
        "spotify_num_1940 = spotify_num[mask]"
      ],
      "execution_count": 22,
      "outputs": []
    },
    {
      "cell_type": "code",
      "metadata": {
        "id": "E1fA4CzbQaKN",
        "outputId": "dd068510-b1a3-4ca2-e20c-00dbf302ddab",
        "colab": {
          "base_uri": "https://localhost:8080/"
        }
      },
      "source": [
        "spotify_num.shape"
      ],
      "execution_count": 23,
      "outputs": [
        {
          "output_type": "execute_result",
          "data": {
            "text/plain": [
              "(169909, 15)"
            ]
          },
          "metadata": {
            "tags": []
          },
          "execution_count": 23
        }
      ]
    },
    {
      "cell_type": "code",
      "metadata": {
        "id": "Ikva1_GgP7pF",
        "outputId": "021d034a-e1d6-4a8c-e187-1a601b995643",
        "colab": {
          "base_uri": "https://localhost:8080/"
        }
      },
      "source": [
        "spotify_num_1940.shape"
      ],
      "execution_count": 24,
      "outputs": [
        {
          "output_type": "execute_result",
          "data": {
            "text/plain": [
              "(119656, 15)"
            ]
          },
          "metadata": {
            "tags": []
          },
          "execution_count": 24
        }
      ]
    },
    {
      "cell_type": "code",
      "metadata": {
        "id": "29PV_Az2P9yd",
        "outputId": "c05170d5-2882-4c50-b3d7-bc9339c00008",
        "colab": {
          "base_uri": "https://localhost:8080/",
          "height": 684
        }
      },
      "source": [
        "spotify_num.corr()\n",
        "#correlación entre las columnas siendo 1 el maximo\n",
        "fig, ax = plt.subplots(figsize=(13,13))         # Sample figsize in inches\n",
        "sns.heatmap(spotify_num_1940.corr(), annot=True, fmt='.3f')"
      ],
      "execution_count": 25,
      "outputs": [
        {
          "output_type": "execute_result",
          "data": {
            "text/plain": [
              "<matplotlib.axes._subplots.AxesSubplot at 0x7f51ae205128>"
            ]
          },
          "metadata": {
            "tags": []
          },
          "execution_count": 25
        },
        {
          "output_type": "display_data",
          "data": {
            "image/png": "[encoded data removed]",
            "text/plain": [
              "<Figure size 936x936 with 2 Axes>"
            ]
          },
          "metadata": {
            "tags": [],
            "needs_background": "light"
          }
        }
      ]
    },
    {
      "cell_type": "code",
      "metadata": {
        "id": "0HSBqW8YSQum",
        "outputId": "353d2294-d299-4687-a52b-76adc3a4a1f9",
        "colab": {
          "base_uri": "https://localhost:8080/"
        }
      },
      "source": [
        "(spotify_num_1940['popularity'] > 80).value_counts()"
      ],
      "execution_count": 26,
      "outputs": [
        {
          "output_type": "execute_result",
          "data": {
            "text/plain": [
              "False    119199\n",
              "True        457\n",
              "Name: popularity, dtype: int64"
            ]
          },
          "metadata": {
            "tags": []
          },
          "execution_count": 26
        }
      ]
    },
    {
      "cell_type": "code",
      "metadata": {
        "id": "4eX9XL3_SmqO",
        "outputId": "fcdceb62-6f19-4300-ea27-a4d54458271c",
        "colab": {
          "base_uri": "https://localhost:8080/"
        }
      },
      "source": [
        "spotify_num_1940.shape"
      ],
      "execution_count": 27,
      "outputs": [
        {
          "output_type": "execute_result",
          "data": {
            "text/plain": [
              "(119656, 15)"
            ]
          },
          "metadata": {
            "tags": []
          },
          "execution_count": 27
        }
      ]
    },
    {
      "cell_type": "code",
      "metadata": {
        "id": "2GHhAxv1SrIt",
        "outputId": "360ed643-e36e-45ad-ecb5-57dff8b65c47",
        "colab": {
          "base_uri": "https://localhost:8080/"
        }
      },
      "source": [
        "percent = (119199/119656)*100\n",
        "percent"
      ],
      "execution_count": 28,
      "outputs": [
        {
          "output_type": "execute_result",
          "data": {
            "text/plain": [
              "99.61807180584343"
            ]
          },
          "metadata": {
            "tags": []
          },
          "execution_count": 28
        }
      ]
    },
    {
      "cell_type": "code",
      "metadata": {
        "id": "RNkQn9_DTCX-",
        "outputId": "4bae8532-b37c-4b4c-a265-61c3d96a3f7b",
        "colab": {
          "base_uri": "https://localhost:8080/"
        }
      },
      "source": [
        "percent_true = (457/119656)*100\n",
        "percent_true"
      ],
      "execution_count": 29,
      "outputs": [
        {
          "output_type": "execute_result",
          "data": {
            "text/plain": [
              "0.3819281941565822"
            ]
          },
          "metadata": {
            "tags": []
          },
          "execution_count": 29
        }
      ]
    },
    {
      "cell_type": "code",
      "metadata": {
        "id": "j8imOHKgTKCk",
        "outputId": "7cc4f743-1f9a-4452-afc0-7083f18f8a0b",
        "colab": {
          "base_uri": "https://localhost:8080/",
          "height": 312
        }
      },
      "source": [
        "spotify_num_1940['popularity'].hist()\n",
        "plt.xlabel('Popularity')\n",
        "plt.ylabel('Numero de repeticiones')\n",
        "plt.title('Histogram of Popularity')"
      ],
      "execution_count": 30,
      "outputs": [
        {
          "output_type": "execute_result",
          "data": {
            "text/plain": [
              "Text(0.5, 1.0, 'Histogram of Popularity')"
            ]
          },
          "metadata": {
            "tags": []
          },
          "execution_count": 30
        },
        {
          "output_type": "display_data",
          "data": {
            "image/png": "[encoded data removed]",
            "text/plain": [
              "<Figure size 432x288 with 1 Axes>"
            ]
          },
          "metadata": {
            "tags": [],
            "needs_background": "light"
          }
        }
      ]
    },
    {
      "cell_type": "code",
      "metadata": {
        "id": "CB7aaPgYTz42",
        "outputId": "85faedd3-a4e3-4437-b384-7b7fa67f4984",
        "colab": {
          "base_uri": "https://localhost:8080/",
          "height": 312
        }
      },
      "source": [
        "spotify_num_1940['year'].hist()\n",
        "plt.xlabel('Year')\n",
        "plt.ylabel('Numero de repeticiones')\n",
        "plt.title('Histogram of year')"
      ],
      "execution_count": 31,
      "outputs": [
        {
          "output_type": "execute_result",
          "data": {
            "text/plain": [
              "Text(0.5, 1.0, 'Histogram of year')"
            ]
          },
          "metadata": {
            "tags": []
          },
          "execution_count": 31
        },
        {
          "output_type": "display_data",
          "data": {
            "image/png": "[encoded data removed]",
            "text/plain": [
              "<Figure size 432x288 with 1 Axes>"
            ]
          },
          "metadata": {
            "tags": [],
            "needs_background": "light"
          }
        }
      ]
    },
    {
      "cell_type": "code",
      "metadata": {
        "id": "PiJo6r1gUfcc",
        "outputId": "d04dcc79-8156-40c3-8c5d-4bbea1044dab",
        "colab": {
          "base_uri": "https://localhost:8080/",
          "height": 307
        }
      },
      "source": [
        "spotify_num_1940.describe()"
      ],
      "execution_count": 32,
      "outputs": [
        {
          "output_type": "execute_result",
          "data": {
            "text/html": [
              "<div>\n",
              "<style scoped>\n",
              "    .dataframe tbody tr th:only-of-type {\n",
              "        vertical-align: middle;\n",
              "    }\n",
              "\n",
              "    .dataframe tbody tr th {\n",
              "        vertical-align: top;\n",
              "    }\n",
              "\n",
              "    .dataframe thead th {\n",
              "        text-align: right;\n",
              "    }\n",
              "</style>\n",
              "<table border=\"1\" class=\"dataframe\">\n",
              "  <thead>\n",
              "    <tr style=\"text-align: right;\">\n",
              "      <th></th>\n",
              "      <th>acousticness</th>\n",
              "      <th>danceability</th>\n",
              "      <th>duration_ms</th>\n",
              "      <th>energy</th>\n",
              "      <th>explicit</th>\n",
              "      <th>instrumentalness</th>\n",
              "      <th>key</th>\n",
              "      <th>liveness</th>\n",
              "      <th>loudness</th>\n",
              "      <th>mode</th>\n",
              "      <th>popularity</th>\n",
              "      <th>speechiness</th>\n",
              "      <th>tempo</th>\n",
              "      <th>valence</th>\n",
              "      <th>year</th>\n",
              "    </tr>\n",
              "  </thead>\n",
              "  <tbody>\n",
              "    <tr>\n",
              "      <th>count</th>\n",
              "      <td>119656.000000</td>\n",
              "      <td>119656.000000</td>\n",
              "      <td>1.196560e+05</td>\n",
              "      <td>119656.000000</td>\n",
              "      <td>119656.000000</td>\n",
              "      <td>119656.000000</td>\n",
              "      <td>119656.000000</td>\n",
              "      <td>119656.000000</td>\n",
              "      <td>119656.000000</td>\n",
              "      <td>119656.000000</td>\n",
              "      <td>119656.000000</td>\n",
              "      <td>119656.000000</td>\n",
              "      <td>119656.000000</td>\n",
              "      <td>119656.000000</td>\n",
              "      <td>119656.000000</td>\n",
              "    </tr>\n",
              "    <tr>\n",
              "      <th>mean</th>\n",
              "      <td>0.342830</td>\n",
              "      <td>0.556205</td>\n",
              "      <td>2.384627e+05</td>\n",
              "      <td>0.578087</td>\n",
              "      <td>0.103179</td>\n",
              "      <td>0.104070</td>\n",
              "      <td>5.225496</td>\n",
              "      <td>0.202915</td>\n",
              "      <td>-9.873729</td>\n",
              "      <td>0.709166</td>\n",
              "      <td>42.400423</td>\n",
              "      <td>0.076758</td>\n",
              "      <td>119.895590</td>\n",
              "      <td>0.542732</td>\n",
              "      <td>1990.419110</td>\n",
              "    </tr>\n",
              "    <tr>\n",
              "      <th>std</th>\n",
              "      <td>0.323012</td>\n",
              "      <td>0.172962</td>\n",
              "      <td>1.063395e+05</td>\n",
              "      <td>0.246520</td>\n",
              "      <td>0.304194</td>\n",
              "      <td>0.251717</td>\n",
              "      <td>3.537406</td>\n",
              "      <td>0.181097</td>\n",
              "      <td>5.036224</td>\n",
              "      <td>0.454149</td>\n",
              "      <td>14.997266</td>\n",
              "      <td>0.092404</td>\n",
              "      <td>30.032776</td>\n",
              "      <td>0.258144</td>\n",
              "      <td>17.276737</td>\n",
              "    </tr>\n",
              "    <tr>\n",
              "      <th>min</th>\n",
              "      <td>0.000000</td>\n",
              "      <td>0.000000</td>\n",
              "      <td>1.470800e+04</td>\n",
              "      <td>0.000000</td>\n",
              "      <td>0.000000</td>\n",
              "      <td>0.000000</td>\n",
              "      <td>0.000000</td>\n",
              "      <td>0.000000</td>\n",
              "      <td>-60.000000</td>\n",
              "      <td>0.000000</td>\n",
              "      <td>0.000000</td>\n",
              "      <td>0.000000</td>\n",
              "      <td>0.000000</td>\n",
              "      <td>0.000000</td>\n",
              "      <td>1961.000000</td>\n",
              "    </tr>\n",
              "    <tr>\n",
              "      <th>25%</th>\n",
              "      <td>0.040900</td>\n",
              "      <td>0.440000</td>\n",
              "      <td>1.817330e+05</td>\n",
              "      <td>0.400000</td>\n",
              "      <td>0.000000</td>\n",
              "      <td>0.000000</td>\n",
              "      <td>2.000000</td>\n",
              "      <td>0.093700</td>\n",
              "      <td>-12.455000</td>\n",
              "      <td>0.000000</td>\n",
              "      <td>31.000000</td>\n",
              "      <td>0.033500</td>\n",
              "      <td>96.581000</td>\n",
              "      <td>0.337000</td>\n",
              "      <td>1975.000000</td>\n",
              "    </tr>\n",
              "    <tr>\n",
              "      <th>50%</th>\n",
              "      <td>0.238000</td>\n",
              "      <td>0.564000</td>\n",
              "      <td>2.227800e+05</td>\n",
              "      <td>0.596000</td>\n",
              "      <td>0.000000</td>\n",
              "      <td>0.000056</td>\n",
              "      <td>5.000000</td>\n",
              "      <td>0.129000</td>\n",
              "      <td>-8.956000</td>\n",
              "      <td>1.000000</td>\n",
              "      <td>42.000000</td>\n",
              "      <td>0.043300</td>\n",
              "      <td>117.878500</td>\n",
              "      <td>0.552000</td>\n",
              "      <td>1990.000000</td>\n",
              "    </tr>\n",
              "    <tr>\n",
              "      <th>75%</th>\n",
              "      <td>0.622000</td>\n",
              "      <td>0.681000</td>\n",
              "      <td>2.715765e+05</td>\n",
              "      <td>0.780000</td>\n",
              "      <td>0.000000</td>\n",
              "      <td>0.011900</td>\n",
              "      <td>8.000000</td>\n",
              "      <td>0.256000</td>\n",
              "      <td>-6.218000</td>\n",
              "      <td>1.000000</td>\n",
              "      <td>53.000000</td>\n",
              "      <td>0.071900</td>\n",
              "      <td>138.666250</td>\n",
              "      <td>0.758000</td>\n",
              "      <td>2005.000000</td>\n",
              "    </tr>\n",
              "    <tr>\n",
              "      <th>max</th>\n",
              "      <td>0.996000</td>\n",
              "      <td>0.988000</td>\n",
              "      <td>5.403500e+06</td>\n",
              "      <td>1.000000</td>\n",
              "      <td>1.000000</td>\n",
              "      <td>1.000000</td>\n",
              "      <td>11.000000</td>\n",
              "      <td>1.000000</td>\n",
              "      <td>3.744000</td>\n",
              "      <td>1.000000</td>\n",
              "      <td>100.000000</td>\n",
              "      <td>0.964000</td>\n",
              "      <td>244.091000</td>\n",
              "      <td>1.000000</td>\n",
              "      <td>2020.000000</td>\n",
              "    </tr>\n",
              "  </tbody>\n",
              "</table>\n",
              "</div>"
            ],
            "text/plain": [
              "        acousticness   danceability  ...        valence           year\n",
              "count  119656.000000  119656.000000  ...  119656.000000  119656.000000\n",
              "mean        0.342830       0.556205  ...       0.542732    1990.419110\n",
              "std         0.323012       0.172962  ...       0.258144      17.276737\n",
              "min         0.000000       0.000000  ...       0.000000    1961.000000\n",
              "25%         0.040900       0.440000  ...       0.337000    1975.000000\n",
              "50%         0.238000       0.564000  ...       0.552000    1990.000000\n",
              "75%         0.622000       0.681000  ...       0.758000    2005.000000\n",
              "max         0.996000       0.988000  ...       1.000000    2020.000000\n",
              "\n",
              "[8 rows x 15 columns]"
            ]
          },
          "metadata": {
            "tags": []
          },
          "execution_count": 32
        }
      ]
    },
    {
      "cell_type": "code",
      "metadata": {
        "id": "2RHy6G5UW4zO",
        "outputId": "7d68c281-240f-42b7-c4d4-fa59920e9524",
        "colab": {
          "base_uri": "https://localhost:8080/",
          "height": 217
        }
      },
      "source": [
        "spotify_num_1940.head()"
      ],
      "execution_count": 34,
      "outputs": [
        {
          "output_type": "execute_result",
          "data": {
            "text/html": [
              "<div>\n",
              "<style scoped>\n",
              "    .dataframe tbody tr th:only-of-type {\n",
              "        vertical-align: middle;\n",
              "    }\n",
              "\n",
              "    .dataframe tbody tr th {\n",
              "        vertical-align: top;\n",
              "    }\n",
              "\n",
              "    .dataframe thead th {\n",
              "        text-align: right;\n",
              "    }\n",
              "</style>\n",
              "<table border=\"1\" class=\"dataframe\">\n",
              "  <thead>\n",
              "    <tr style=\"text-align: right;\">\n",
              "      <th></th>\n",
              "      <th>acousticness</th>\n",
              "      <th>danceability</th>\n",
              "      <th>duration_ms</th>\n",
              "      <th>energy</th>\n",
              "      <th>explicit</th>\n",
              "      <th>instrumentalness</th>\n",
              "      <th>key</th>\n",
              "      <th>liveness</th>\n",
              "      <th>loudness</th>\n",
              "      <th>mode</th>\n",
              "      <th>popularity</th>\n",
              "      <th>speechiness</th>\n",
              "      <th>tempo</th>\n",
              "      <th>valence</th>\n",
              "      <th>year</th>\n",
              "    </tr>\n",
              "  </thead>\n",
              "  <tbody>\n",
              "    <tr>\n",
              "      <th>2154</th>\n",
              "      <td>0.729</td>\n",
              "      <td>0.497</td>\n",
              "      <td>377600</td>\n",
              "      <td>0.263</td>\n",
              "      <td>0</td>\n",
              "      <td>0.0978</td>\n",
              "      <td>5</td>\n",
              "      <td>0.146</td>\n",
              "      <td>-18.366</td>\n",
              "      <td>1</td>\n",
              "      <td>15</td>\n",
              "      <td>0.0351</td>\n",
              "      <td>109.284</td>\n",
              "      <td>0.414</td>\n",
              "      <td>1961</td>\n",
              "    </tr>\n",
              "    <tr>\n",
              "      <th>2155</th>\n",
              "      <td>0.491</td>\n",
              "      <td>0.668</td>\n",
              "      <td>204627</td>\n",
              "      <td>0.453</td>\n",
              "      <td>0</td>\n",
              "      <td>0.7740</td>\n",
              "      <td>2</td>\n",
              "      <td>0.565</td>\n",
              "      <td>-16.417</td>\n",
              "      <td>1</td>\n",
              "      <td>13</td>\n",
              "      <td>0.0535</td>\n",
              "      <td>97.732</td>\n",
              "      <td>0.354</td>\n",
              "      <td>1961</td>\n",
              "    </tr>\n",
              "    <tr>\n",
              "      <th>2156</th>\n",
              "      <td>0.961</td>\n",
              "      <td>0.275</td>\n",
              "      <td>187933</td>\n",
              "      <td>0.110</td>\n",
              "      <td>0</td>\n",
              "      <td>0.8880</td>\n",
              "      <td>7</td>\n",
              "      <td>0.108</td>\n",
              "      <td>-20.325</td>\n",
              "      <td>1</td>\n",
              "      <td>13</td>\n",
              "      <td>0.0356</td>\n",
              "      <td>166.733</td>\n",
              "      <td>0.466</td>\n",
              "      <td>1961</td>\n",
              "    </tr>\n",
              "    <tr>\n",
              "      <th>2157</th>\n",
              "      <td>0.954</td>\n",
              "      <td>0.337</td>\n",
              "      <td>447453</td>\n",
              "      <td>0.130</td>\n",
              "      <td>0</td>\n",
              "      <td>0.6980</td>\n",
              "      <td>3</td>\n",
              "      <td>0.320</td>\n",
              "      <td>-15.557</td>\n",
              "      <td>1</td>\n",
              "      <td>16</td>\n",
              "      <td>0.0403</td>\n",
              "      <td>58.813</td>\n",
              "      <td>0.200</td>\n",
              "      <td>1961</td>\n",
              "    </tr>\n",
              "    <tr>\n",
              "      <th>2158</th>\n",
              "      <td>0.789</td>\n",
              "      <td>0.466</td>\n",
              "      <td>247133</td>\n",
              "      <td>0.205</td>\n",
              "      <td>0</td>\n",
              "      <td>0.0000</td>\n",
              "      <td>5</td>\n",
              "      <td>0.099</td>\n",
              "      <td>-12.981</td>\n",
              "      <td>1</td>\n",
              "      <td>10</td>\n",
              "      <td>0.0315</td>\n",
              "      <td>84.211</td>\n",
              "      <td>0.502</td>\n",
              "      <td>1961</td>\n",
              "    </tr>\n",
              "  </tbody>\n",
              "</table>\n",
              "</div>"
            ],
            "text/plain": [
              "      acousticness  danceability  duration_ms  ...    tempo  valence  year\n",
              "2154         0.729         0.497       377600  ...  109.284    0.414  1961\n",
              "2155         0.491         0.668       204627  ...   97.732    0.354  1961\n",
              "2156         0.961         0.275       187933  ...  166.733    0.466  1961\n",
              "2157         0.954         0.337       447453  ...   58.813    0.200  1961\n",
              "2158         0.789         0.466       247133  ...   84.211    0.502  1961\n",
              "\n",
              "[5 rows x 15 columns]"
            ]
          },
          "metadata": {
            "tags": []
          },
          "execution_count": 34
        }
      ]
    },
    {
      "cell_type": "code",
      "metadata": {
        "id": "nY3jFQn-Z7M9",
        "outputId": "295ddbb8-9f8f-475f-f7d2-cffdc2f9ee8c",
        "colab": {
          "base_uri": "https://localhost:8080/",
          "height": 97
        }
      },
      "source": [
        "spotify_num_1940.notnull().apply(pd.Series.value_counts)"
      ],
      "execution_count": 35,
      "outputs": [
        {
          "output_type": "execute_result",
          "data": {
            "text/html": [
              "<div>\n",
              "<style scoped>\n",
              "    .dataframe tbody tr th:only-of-type {\n",
              "        vertical-align: middle;\n",
              "    }\n",
              "\n",
              "    .dataframe tbody tr th {\n",
              "        vertical-align: top;\n",
              "    }\n",
              "\n",
              "    .dataframe thead th {\n",
              "        text-align: right;\n",
              "    }\n",
              "</style>\n",
              "<table border=\"1\" class=\"dataframe\">\n",
              "  <thead>\n",
              "    <tr style=\"text-align: right;\">\n",
              "      <th></th>\n",
              "      <th>acousticness</th>\n",
              "      <th>danceability</th>\n",
              "      <th>duration_ms</th>\n",
              "      <th>energy</th>\n",
              "      <th>explicit</th>\n",
              "      <th>instrumentalness</th>\n",
              "      <th>key</th>\n",
              "      <th>liveness</th>\n",
              "      <th>loudness</th>\n",
              "      <th>mode</th>\n",
              "      <th>popularity</th>\n",
              "      <th>speechiness</th>\n",
              "      <th>tempo</th>\n",
              "      <th>valence</th>\n",
              "      <th>year</th>\n",
              "    </tr>\n",
              "  </thead>\n",
              "  <tbody>\n",
              "    <tr>\n",
              "      <th>True</th>\n",
              "      <td>119656</td>\n",
              "      <td>119656</td>\n",
              "      <td>119656</td>\n",
              "      <td>119656</td>\n",
              "      <td>119656</td>\n",
              "      <td>119656</td>\n",
              "      <td>119656</td>\n",
              "      <td>119656</td>\n",
              "      <td>119656</td>\n",
              "      <td>119656</td>\n",
              "      <td>119656</td>\n",
              "      <td>119656</td>\n",
              "      <td>119656</td>\n",
              "      <td>119656</td>\n",
              "      <td>119656</td>\n",
              "    </tr>\n",
              "  </tbody>\n",
              "</table>\n",
              "</div>"
            ],
            "text/plain": [
              "      acousticness  danceability  duration_ms  ...   tempo  valence    year\n",
              "True        119656        119656       119656  ...  119656   119656  119656\n",
              "\n",
              "[1 rows x 15 columns]"
            ]
          },
          "metadata": {
            "tags": []
          },
          "execution_count": 35
        }
      ]
    },
    {
      "cell_type": "code",
      "metadata": {
        "id": "Vhbz_zSQafho",
        "outputId": "87c531a2-0620-4825-bbc3-96998b69675e",
        "colab": {
          "base_uri": "https://localhost:8080/",
          "height": 127
        }
      },
      "source": [
        "(spotify_num_1940 != 0).apply(pd.Series.value_counts)"
      ],
      "execution_count": 36,
      "outputs": [
        {
          "output_type": "execute_result",
          "data": {
            "text/html": [
              "<div>\n",
              "<style scoped>\n",
              "    .dataframe tbody tr th:only-of-type {\n",
              "        vertical-align: middle;\n",
              "    }\n",
              "\n",
              "    .dataframe tbody tr th {\n",
              "        vertical-align: top;\n",
              "    }\n",
              "\n",
              "    .dataframe thead th {\n",
              "        text-align: right;\n",
              "    }\n",
              "</style>\n",
              "<table border=\"1\" class=\"dataframe\">\n",
              "  <thead>\n",
              "    <tr style=\"text-align: right;\">\n",
              "      <th></th>\n",
              "      <th>acousticness</th>\n",
              "      <th>danceability</th>\n",
              "      <th>duration_ms</th>\n",
              "      <th>energy</th>\n",
              "      <th>explicit</th>\n",
              "      <th>instrumentalness</th>\n",
              "      <th>key</th>\n",
              "      <th>liveness</th>\n",
              "      <th>loudness</th>\n",
              "      <th>mode</th>\n",
              "      <th>popularity</th>\n",
              "      <th>speechiness</th>\n",
              "      <th>tempo</th>\n",
              "      <th>valence</th>\n",
              "      <th>year</th>\n",
              "    </tr>\n",
              "  </thead>\n",
              "  <tbody>\n",
              "    <tr>\n",
              "      <th>False</th>\n",
              "      <td>13</td>\n",
              "      <td>91</td>\n",
              "      <td>NaN</td>\n",
              "      <td>3</td>\n",
              "      <td>107310</td>\n",
              "      <td>36548</td>\n",
              "      <td>15014</td>\n",
              "      <td>5</td>\n",
              "      <td>NaN</td>\n",
              "      <td>34800</td>\n",
              "      <td>78</td>\n",
              "      <td>92</td>\n",
              "      <td>91</td>\n",
              "      <td>96</td>\n",
              "      <td>NaN</td>\n",
              "    </tr>\n",
              "    <tr>\n",
              "      <th>True</th>\n",
              "      <td>119643</td>\n",
              "      <td>119565</td>\n",
              "      <td>119656.0</td>\n",
              "      <td>119653</td>\n",
              "      <td>12346</td>\n",
              "      <td>83108</td>\n",
              "      <td>104642</td>\n",
              "      <td>119651</td>\n",
              "      <td>119656.0</td>\n",
              "      <td>84856</td>\n",
              "      <td>119578</td>\n",
              "      <td>119564</td>\n",
              "      <td>119565</td>\n",
              "      <td>119560</td>\n",
              "      <td>119656.0</td>\n",
              "    </tr>\n",
              "  </tbody>\n",
              "</table>\n",
              "</div>"
            ],
            "text/plain": [
              "       acousticness  danceability  duration_ms  ...   tempo  valence      year\n",
              "False            13            91          NaN  ...      91       96       NaN\n",
              "True         119643        119565     119656.0  ...  119565   119560  119656.0\n",
              "\n",
              "[2 rows x 15 columns]"
            ]
          },
          "metadata": {
            "tags": []
          },
          "execution_count": 36
        }
      ]
    },
    {
      "cell_type": "code",
      "metadata": {
        "id": "jj_7Z0Soatdn"
      },
      "source": [
        "spotify_num_1940.index = np.arange(0,len(spotify_num_1940), 1)"
      ],
      "execution_count": 95,
      "outputs": []
    },
    {
      "cell_type": "code",
      "metadata": {
        "id": "bFHICeoebg3O",
        "outputId": "0e051388-f053-4ff4-a221-8143a2724cc6",
        "colab": {
          "base_uri": "https://localhost:8080/"
        }
      },
      "source": [
        "spotify_num_1940.index"
      ],
      "execution_count": 96,
      "outputs": [
        {
          "output_type": "execute_result",
          "data": {
            "text/plain": [
              "Int64Index([     0,      1,      2,      3,      4,      5,      6,      7,\n",
              "                 8,      9,\n",
              "            ...\n",
              "            119646, 119647, 119648, 119649, 119650, 119651, 119652, 119653,\n",
              "            119654, 119655],\n",
              "           dtype='int64', length=119656)"
            ]
          },
          "metadata": {
            "tags": []
          },
          "execution_count": 96
        }
      ]
    },
    {
      "cell_type": "code",
      "metadata": {
        "id": "ckhmZuqUbnWN",
        "outputId": "9ecc140d-2978-404a-cc3c-3b7f2c493bfb",
        "colab": {
          "base_uri": "https://localhost:8080/",
          "height": 426
        }
      },
      "source": [
        "spotify_num_1940"
      ],
      "execution_count": 98,
      "outputs": [
        {
          "output_type": "execute_result",
          "data": {
            "text/html": [
              "<div>\n",
              "<style scoped>\n",
              "    .dataframe tbody tr th:only-of-type {\n",
              "        vertical-align: middle;\n",
              "    }\n",
              "\n",
              "    .dataframe tbody tr th {\n",
              "        vertical-align: top;\n",
              "    }\n",
              "\n",
              "    .dataframe thead th {\n",
              "        text-align: right;\n",
              "    }\n",
              "</style>\n",
              "<table border=\"1\" class=\"dataframe\">\n",
              "  <thead>\n",
              "    <tr style=\"text-align: right;\">\n",
              "      <th></th>\n",
              "      <th>acousticness</th>\n",
              "      <th>danceability</th>\n",
              "      <th>duration_ms</th>\n",
              "      <th>energy</th>\n",
              "      <th>explicit</th>\n",
              "      <th>instrumentalness</th>\n",
              "      <th>key</th>\n",
              "      <th>liveness</th>\n",
              "      <th>loudness</th>\n",
              "      <th>mode</th>\n",
              "      <th>popularity</th>\n",
              "      <th>speechiness</th>\n",
              "      <th>tempo</th>\n",
              "      <th>valence</th>\n",
              "      <th>year</th>\n",
              "    </tr>\n",
              "  </thead>\n",
              "  <tbody>\n",
              "    <tr>\n",
              "      <th>0</th>\n",
              "      <td>0.7290</td>\n",
              "      <td>0.497</td>\n",
              "      <td>377600</td>\n",
              "      <td>0.263</td>\n",
              "      <td>0</td>\n",
              "      <td>0.097800</td>\n",
              "      <td>5</td>\n",
              "      <td>0.1460</td>\n",
              "      <td>-18.366</td>\n",
              "      <td>1</td>\n",
              "      <td>15</td>\n",
              "      <td>0.0351</td>\n",
              "      <td>109.284</td>\n",
              "      <td>0.414</td>\n",
              "      <td>1961</td>\n",
              "    </tr>\n",
              "    <tr>\n",
              "      <th>1</th>\n",
              "      <td>0.4910</td>\n",
              "      <td>0.668</td>\n",
              "      <td>204627</td>\n",
              "      <td>0.453</td>\n",
              "      <td>0</td>\n",
              "      <td>0.774000</td>\n",
              "      <td>2</td>\n",
              "      <td>0.5650</td>\n",
              "      <td>-16.417</td>\n",
              "      <td>1</td>\n",
              "      <td>13</td>\n",
              "      <td>0.0535</td>\n",
              "      <td>97.732</td>\n",
              "      <td>0.354</td>\n",
              "      <td>1961</td>\n",
              "    </tr>\n",
              "    <tr>\n",
              "      <th>2</th>\n",
              "      <td>0.9610</td>\n",
              "      <td>0.275</td>\n",
              "      <td>187933</td>\n",
              "      <td>0.110</td>\n",
              "      <td>0</td>\n",
              "      <td>0.888000</td>\n",
              "      <td>7</td>\n",
              "      <td>0.1080</td>\n",
              "      <td>-20.325</td>\n",
              "      <td>1</td>\n",
              "      <td>13</td>\n",
              "      <td>0.0356</td>\n",
              "      <td>166.733</td>\n",
              "      <td>0.466</td>\n",
              "      <td>1961</td>\n",
              "    </tr>\n",
              "    <tr>\n",
              "      <th>3</th>\n",
              "      <td>0.9540</td>\n",
              "      <td>0.337</td>\n",
              "      <td>447453</td>\n",
              "      <td>0.130</td>\n",
              "      <td>0</td>\n",
              "      <td>0.698000</td>\n",
              "      <td>3</td>\n",
              "      <td>0.3200</td>\n",
              "      <td>-15.557</td>\n",
              "      <td>1</td>\n",
              "      <td>16</td>\n",
              "      <td>0.0403</td>\n",
              "      <td>58.813</td>\n",
              "      <td>0.200</td>\n",
              "      <td>1961</td>\n",
              "    </tr>\n",
              "    <tr>\n",
              "      <th>4</th>\n",
              "      <td>0.7890</td>\n",
              "      <td>0.466</td>\n",
              "      <td>247133</td>\n",
              "      <td>0.205</td>\n",
              "      <td>0</td>\n",
              "      <td>0.000000</td>\n",
              "      <td>5</td>\n",
              "      <td>0.0990</td>\n",
              "      <td>-12.981</td>\n",
              "      <td>1</td>\n",
              "      <td>10</td>\n",
              "      <td>0.0315</td>\n",
              "      <td>84.211</td>\n",
              "      <td>0.502</td>\n",
              "      <td>1961</td>\n",
              "    </tr>\n",
              "    <tr>\n",
              "      <th>...</th>\n",
              "      <td>...</td>\n",
              "      <td>...</td>\n",
              "      <td>...</td>\n",
              "      <td>...</td>\n",
              "      <td>...</td>\n",
              "      <td>...</td>\n",
              "      <td>...</td>\n",
              "      <td>...</td>\n",
              "      <td>...</td>\n",
              "      <td>...</td>\n",
              "      <td>...</td>\n",
              "      <td>...</td>\n",
              "      <td>...</td>\n",
              "      <td>...</td>\n",
              "      <td>...</td>\n",
              "    </tr>\n",
              "    <tr>\n",
              "      <th>119651</th>\n",
              "      <td>0.1730</td>\n",
              "      <td>0.875</td>\n",
              "      <td>163800</td>\n",
              "      <td>0.443</td>\n",
              "      <td>1</td>\n",
              "      <td>0.000032</td>\n",
              "      <td>1</td>\n",
              "      <td>0.0891</td>\n",
              "      <td>-7.461</td>\n",
              "      <td>1</td>\n",
              "      <td>75</td>\n",
              "      <td>0.1430</td>\n",
              "      <td>100.012</td>\n",
              "      <td>0.306</td>\n",
              "      <td>2020</td>\n",
              "    </tr>\n",
              "    <tr>\n",
              "      <th>119652</th>\n",
              "      <td>0.0167</td>\n",
              "      <td>0.719</td>\n",
              "      <td>167468</td>\n",
              "      <td>0.385</td>\n",
              "      <td>0</td>\n",
              "      <td>0.031300</td>\n",
              "      <td>8</td>\n",
              "      <td>0.1110</td>\n",
              "      <td>-10.907</td>\n",
              "      <td>1</td>\n",
              "      <td>64</td>\n",
              "      <td>0.0403</td>\n",
              "      <td>128.000</td>\n",
              "      <td>0.270</td>\n",
              "      <td>2020</td>\n",
              "    </tr>\n",
              "    <tr>\n",
              "      <th>119653</th>\n",
              "      <td>0.5380</td>\n",
              "      <td>0.514</td>\n",
              "      <td>180700</td>\n",
              "      <td>0.539</td>\n",
              "      <td>0</td>\n",
              "      <td>0.002330</td>\n",
              "      <td>7</td>\n",
              "      <td>0.1080</td>\n",
              "      <td>-9.332</td>\n",
              "      <td>1</td>\n",
              "      <td>70</td>\n",
              "      <td>0.1050</td>\n",
              "      <td>123.700</td>\n",
              "      <td>0.153</td>\n",
              "      <td>2020</td>\n",
              "    </tr>\n",
              "    <tr>\n",
              "      <th>119654</th>\n",
              "      <td>0.0714</td>\n",
              "      <td>0.646</td>\n",
              "      <td>167308</td>\n",
              "      <td>0.761</td>\n",
              "      <td>0</td>\n",
              "      <td>0.000000</td>\n",
              "      <td>1</td>\n",
              "      <td>0.2220</td>\n",
              "      <td>-2.557</td>\n",
              "      <td>1</td>\n",
              "      <td>70</td>\n",
              "      <td>0.0385</td>\n",
              "      <td>129.916</td>\n",
              "      <td>0.472</td>\n",
              "      <td>2020</td>\n",
              "    </tr>\n",
              "    <tr>\n",
              "      <th>119655</th>\n",
              "      <td>0.1090</td>\n",
              "      <td>0.512</td>\n",
              "      <td>214787</td>\n",
              "      <td>0.428</td>\n",
              "      <td>0</td>\n",
              "      <td>0.000000</td>\n",
              "      <td>0</td>\n",
              "      <td>0.1050</td>\n",
              "      <td>-7.387</td>\n",
              "      <td>1</td>\n",
              "      <td>65</td>\n",
              "      <td>0.0271</td>\n",
              "      <td>80.588</td>\n",
              "      <td>0.366</td>\n",
              "      <td>2020</td>\n",
              "    </tr>\n",
              "  </tbody>\n",
              "</table>\n",
              "<p>119656 rows × 15 columns</p>\n",
              "</div>"
            ],
            "text/plain": [
              "        acousticness  danceability  duration_ms  ...    tempo  valence  year\n",
              "0             0.7290         0.497       377600  ...  109.284    0.414  1961\n",
              "1             0.4910         0.668       204627  ...   97.732    0.354  1961\n",
              "2             0.9610         0.275       187933  ...  166.733    0.466  1961\n",
              "3             0.9540         0.337       447453  ...   58.813    0.200  1961\n",
              "4             0.7890         0.466       247133  ...   84.211    0.502  1961\n",
              "...              ...           ...          ...  ...      ...      ...   ...\n",
              "119651        0.1730         0.875       163800  ...  100.012    0.306  2020\n",
              "119652        0.0167         0.719       167468  ...  128.000    0.270  2020\n",
              "119653        0.5380         0.514       180700  ...  123.700    0.153  2020\n",
              "119654        0.0714         0.646       167308  ...  129.916    0.472  2020\n",
              "119655        0.1090         0.512       214787  ...   80.588    0.366  2020\n",
              "\n",
              "[119656 rows x 15 columns]"
            ]
          },
          "metadata": {
            "tags": []
          },
          "execution_count": 98
        }
      ]
    },
    {
      "cell_type": "code",
      "metadata": {
        "id": "czT75PlRb7Hc"
      },
      "source": [
        ""
      ],
      "execution_count": null,
      "outputs": []
    }
  ]
}